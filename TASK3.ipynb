{
 "cells": [
  {
   "cell_type": "markdown",
   "metadata": {},
   "source": [
    "# Question 1"
   ]
  },
  {
   "cell_type": "code",
   "execution_count": 5,
   "metadata": {},
   "outputs": [
    {
     "name": "stdout",
     "output_type": "stream",
     "text": [
      "Enter the no of the elements to be stored in list: 4\n",
      "1\n",
      "2\n",
      "3\n",
      "4\n",
      "10\n"
     ]
    }
   ],
   "source": [
    "#implement reduce func'n to sum a list\n",
    "lt=list()\n",
    "n=int(input(\"Enter the no of the elements to be stored in list: \"))\n",
    "for i in range(n):\n",
    "    e=int(input())\n",
    "    lt.append(e)\n",
    "#Func'n to reverse a list\n",
    "def sum_list(lst):\n",
    "    c=0\n",
    "    for i in lt:\n",
    "        c=i+c\n",
    "    print(c)    \n",
    "#implement reduce func'n to sum a list\n",
    "def myreduce(func,l):\n",
    "    final_lst=func(l)\n",
    "myreduce(sum_list,lt)"
   ]
  },
  {
   "cell_type": "markdown",
   "metadata": {},
   "source": [
    "# Question 2"
   ]
  },
  {
   "cell_type": "code",
   "execution_count": 9,
   "metadata": {},
   "outputs": [
    {
     "name": "stdout",
     "output_type": "stream",
     "text": [
      "55  10  90  15  65  "
     ]
    }
   ],
   "source": [
    "#implement filter func'n to elements from list that are multiple of 5 :\n",
    "lt=[12,55,10,99,64,54,90,15,65]\n",
    "#Func'n to check if element is multiple of 5\n",
    "def multipleOf5(lst):\n",
    "    for i in lst:\n",
    "        if i%5==0:\n",
    "            print(i,end=\"  \")\n",
    "    \n",
    "#implement filter func'n to elements from list that are multiple of 5 :\n",
    "def myfilter(func,l):\n",
    "    final_lst=func(l)\n",
    "myfilter(multipleOf5,lt)"
   ]
  },
  {
   "cell_type": "markdown",
   "metadata": {},
   "source": [
    "# Question 3"
   ]
  },
  {
   "cell_type": "code",
   "execution_count": 2,
   "metadata": {},
   "outputs": [
    {
     "data": {
      "text/plain": [
       "['x', 'xx', 'xxx', 'xxxx', 'y', 'yy', 'yyy', 'yyyy', 'z', 'zz', 'zzz', 'zzzz']"
      ]
     },
     "execution_count": 2,
     "metadata": {},
     "output_type": "execute_result"
    }
   ],
   "source": [
    "lst1 = list('xyz')\n",
    "lst = []\n",
    "[lst.append(lst1[i]*j) for i in range(len(lst1)) for j in range(1,5)]\n",
    "lst"
   ]
  },
  {
   "cell_type": "code",
   "execution_count": 56,
   "metadata": {},
   "outputs": [
    {
     "data": {
      "text/plain": [
       "[(1, 1), (2, 1), (3, 1), (1, 2), (2, 2), (3, 2), (1, 3), (2, 3), (3, 3)]"
      ]
     },
     "execution_count": 56,
     "metadata": {},
     "output_type": "execute_result"
    }
   ],
   "source": [
    "f=[1,2,3]\n",
    "b=[]\n",
    "[b.append((j,i+1)) for i in range(len(f)) for j in range(1,4)]\n",
    "b"
   ]
  },
  {
   "cell_type": "code",
   "execution_count": 3,
   "metadata": {},
   "outputs": [
    {
     "data": {
      "text/plain": [
       "['x', 'xx', 'xxx', 'y', 'yy', 'yyy', 'z', 'zz', 'zzz']"
      ]
     },
     "execution_count": 3,
     "metadata": {},
     "output_type": "execute_result"
    }
   ],
   "source": [
    "s='xyz'\n",
    "[point*i for point in s for i in range(1,4)]"
   ]
  },
  {
   "cell_type": "code",
   "execution_count": null,
   "metadata": {},
   "outputs": [],
   "source": [
    "z=[]"
   ]
  }
 ],
 "metadata": {
  "kernelspec": {
   "display_name": "Python 3",
   "language": "python",
   "name": "python3"
  },
  "language_info": {
   "codemirror_mode": {
    "name": "ipython",
    "version": 3
   },
   "file_extension": ".py",
   "mimetype": "text/x-python",
   "name": "python",
   "nbconvert_exporter": "python",
   "pygments_lexer": "ipython3",
   "version": "3.8.5"
  }
 },
 "nbformat": 4,
 "nbformat_minor": 4
}
