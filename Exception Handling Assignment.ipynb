{
 "cells": [
  {
   "cell_type": "markdown",
   "metadata": {},
   "source": [
    "# Question 1"
   ]
  },
  {
   "cell_type": "code",
   "execution_count": 8,
   "metadata": {},
   "outputs": [
    {
     "name": "stdout",
     "output_type": "stream",
     "text": [
      "division by zero\n",
      "Computation Process completed:)\n"
     ]
    }
   ],
   "source": [
    "def compute():\n",
    "    a=5\n",
    "    res=a/0\n",
    "    return res\n",
    "try:\n",
    "    final_result=compute()\n",
    "    print(\"Final computed Value: {}\".format(final_result))\n",
    "except Exception as e:\n",
    "    print(e)\n",
    "else:\n",
    "    print(\"sucessful\")\n",
    "finally:\n",
    "    print(\"Computation Process completed:)\")\n",
    "    "
   ]
  },
  {
   "cell_type": "code",
   "execution_count": 9,
   "metadata": {},
   "outputs": [
    {
     "name": "stdout",
     "output_type": "stream",
     "text": [
      "Final computed Value: 2.5\n",
      "sucessful\n",
      "Computation Process completed:)\n"
     ]
    }
   ],
   "source": [
    "def compute():\n",
    "    a=5\n",
    "    res=a/2\n",
    "    return res\n",
    "try:\n",
    "    final_result=compute()\n",
    "    print(\"Final computed Value: {}\".format(final_result))\n",
    "except Exception as e:\n",
    "    print(e)\n",
    "else:\n",
    "    print(\"sucessful\")\n",
    "finally:\n",
    "    print(\"Computation Process completed:)\")"
   ]
  },
  {
   "cell_type": "markdown",
   "metadata": {},
   "source": [
    "# Question 2"
   ]
  },
  {
   "cell_type": "code",
   "execution_count": 13,
   "metadata": {},
   "outputs": [
    {
     "name": "stdout",
     "output_type": "stream",
     "text": [
      "Americans  play Baseball\n",
      "Americans  play Cricket\n",
      "Americans  watch Baseball\n",
      "Americans  watch Cricket\n",
      "Indians play Baseball\n",
      "Indians play Cricket\n",
      "Indians watch Baseball\n",
      "Indians watch Cricket\n",
      "successful\n",
      "Concate Process completed:)\n"
     ]
    }
   ],
   "source": [
    "subjects=[\"Americans \",\"Indians\"]\n",
    "verbs=[\"play\",\"watch\"]\n",
    "objects=[\"Baseball\",\"Cricket\"]\n",
    "try:\n",
    "    for i in range(len(subjects)):\n",
    "        for j in range(len(subjects)):\n",
    "            for k in range(len(subjects)):\n",
    "                print(subjects[i]+\" \"+verbs[j]+\" \"+objects[k])\n",
    "except Exception as e:\n",
    "    print(e)\n",
    "else:\n",
    "    print(\"successful\")\n",
    "finally:\n",
    "    print(\"Concate Process completed:)\")"
   ]
  },
  {
   "cell_type": "code",
   "execution_count": null,
   "metadata": {},
   "outputs": [],
   "source": []
  }
 ],
 "metadata": {
  "kernelspec": {
   "display_name": "Python 3",
   "language": "python",
   "name": "python3"
  },
  "language_info": {
   "codemirror_mode": {
    "name": "ipython",
    "version": 3
   },
   "file_extension": ".py",
   "mimetype": "text/x-python",
   "name": "python",
   "nbconvert_exporter": "python",
   "pygments_lexer": "ipython3",
   "version": "3.8.5"
  }
 },
 "nbformat": 4,
 "nbformat_minor": 4
}
