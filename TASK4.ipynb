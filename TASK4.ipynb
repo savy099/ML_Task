{
 "cells": [
  {
   "cell_type": "markdown",
   "metadata": {},
   "source": [
    "# Question 1"
   ]
  },
  {
   "cell_type": "code",
   "execution_count": 58,
   "metadata": {},
   "outputs": [
    {
     "name": "stdout",
     "output_type": "stream",
     "text": [
      "Enter side 1: 22.4\n",
      "Enter side 2: 23.5\n",
      "Enter side 3: 12.8\n",
      "Triangle area = 140.53140465301703\n"
     ]
    }
   ],
   "source": [
    "class parent:\n",
    "    def __init__(self,a,b,c):\n",
    "        self.a = float(a)\n",
    "        self.b = float(b)\n",
    "        self.c = float(c)\n",
    "a= float(input(\"Enter side 1: \"))\n",
    "b= float(input(\"Enter side 2: \"))\n",
    "c= float(input(\"Enter side 3: \"))\n",
    "\n",
    "class child(parent):\n",
    "    def __init__(self,a,b,c):\n",
    "        super().__init__(a,b,c)\n",
    "\n",
    "    def area(self):\n",
    "        s = (a + b + c) *0.5\n",
    "        res=(s*(s-a)*(s-b)*(s-c)) ** 0.5\n",
    "        return res\n",
    "\n",
    "obj = child(a,b,c)\n",
    "print(\"Triangle area = {}\".format(obj.area()))"
   ]
  },
  {
   "cell_type": "markdown",
   "metadata": {},
   "source": [
    "## Question 2"
   ]
  },
  {
   "cell_type": "code",
   "execution_count": 30,
   "metadata": {},
   "outputs": [
    {
     "name": "stdout",
     "output_type": "stream",
     "text": [
      "Number of words in list: 2\n",
      "aa\n",
      "ghjhkkuyhhdhdhdhdhdh\n",
      "Enter n: 9\n"
     ]
    },
    {
     "data": {
      "text/plain": [
       "['ghjhkkuyhhdhdhdhdhdh']"
      ]
     },
     "execution_count": 30,
     "metadata": {},
     "output_type": "execute_result"
    }
   ],
   "source": [
    "#getting input list and n :\n",
    "l=list()\n",
    "c=input(\"Number of words in list: \")\n",
    "c=int(c)\n",
    "\n",
    "for i in range(c):\n",
    "    e=input()\n",
    "    l.append(e)\n",
    "n=int(input(\"Enter n: \"))\n",
    "\n",
    "#function to check the list: \n",
    "def filter_long_words(word_list,z):\n",
    "    res=list()\n",
    "    for i in range(len(word_list)):\n",
    "        if len(word_list[i])>z:\n",
    "            res.append(word_list[i])\n",
    "    return res\n",
    "\n",
    "filter_long_words(l,n)   "
   ]
  },
  {
   "cell_type": "markdown",
   "metadata": {},
   "source": [
    "# Question 3"
   ]
  },
  {
   "cell_type": "code",
   "execution_count": 32,
   "metadata": {},
   "outputs": [
    {
     "name": "stdout",
     "output_type": "stream",
     "text": [
      "Number of words in list: 3\n",
      "jhgdsf\n",
      "ss\n",
      "jhd\n"
     ]
    },
    {
     "data": {
      "text/plain": [
       "[6, 2, 3]"
      ]
     },
     "execution_count": 32,
     "metadata": {},
     "output_type": "execute_result"
    }
   ],
   "source": [
    "#getting input list and n :\n",
    "l1=list()\n",
    "c1=input(\"Number of words in list: \")\n",
    "c1=int(c1)\n",
    "\n",
    "for i in range(c1):\n",
    "    e1=input()\n",
    "    l1.append(e1)\n",
    "#n=int(input(\"Enter n: \"))\n",
    "\n",
    "#function to get the length of words in list: \n",
    "def Map_words_len(word_list1):\n",
    "    res1=list()\n",
    "    for i in range(len(word_list1)):\n",
    "            res1.append(len(word_list1[i]))\n",
    "    return res1\n",
    "\n",
    "Map_words_len(l1)   "
   ]
  },
  {
   "cell_type": "markdown",
   "metadata": {},
   "source": [
    "# Question 4"
   ]
  },
  {
   "cell_type": "code",
   "execution_count": 45,
   "metadata": {},
   "outputs": [
    {
     "name": "stdout",
     "output_type": "stream",
     "text": [
      "Enter the character wanted to check: A\n",
      "True\n"
     ]
    }
   ],
   "source": [
    "#getting input char :\n",
    "c2=input(\"Enter the character wanted to check: \")\n",
    "\n",
    "#function to get the length of words in list: \n",
    "def check_vowel(char1):\n",
    "    if char1 in ('a','e','i','o','u','A','E','I','O','U'):\n",
    "        print(\"True\")\n",
    "    else:\n",
    "        print(\"False\")\n",
    "\n",
    "check_vowel(c2)   "
   ]
  },
  {
   "cell_type": "code",
   "execution_count": null,
   "metadata": {},
   "outputs": [],
   "source": []
  }
 ],
 "metadata": {
  "kernelspec": {
   "display_name": "Python 3",
   "language": "python",
   "name": "python3"
  },
  "language_info": {
   "codemirror_mode": {
    "name": "ipython",
    "version": 3
   },
   "file_extension": ".py",
   "mimetype": "text/x-python",
   "name": "python",
   "nbconvert_exporter": "python",
   "pygments_lexer": "ipython3",
   "version": "3.8.5"
  }
 },
 "nbformat": 4,
 "nbformat_minor": 4
}
